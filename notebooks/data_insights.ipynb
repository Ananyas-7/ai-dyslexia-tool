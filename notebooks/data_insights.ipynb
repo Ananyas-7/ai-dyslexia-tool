{
  "nbformat": 4,
  "nbformat_minor": 0,
  "metadata": {
    "colab": {
      "provenance": [],
      "authorship_tag": "ABX9TyPwglnqoEfY+w5PsZGt74CG",
      "include_colab_link": true
    },
    "kernelspec": {
      "name": "python3",
      "display_name": "Python 3"
    },
    "language_info": {
      "name": "python"
    }
  },
  "cells": [
    {
      "cell_type": "markdown",
      "metadata": {
        "id": "view-in-github",
        "colab_type": "text"
      },
      "source": [
        "<a href=\"https://colab.research.google.com/github/Ananyas-7/ai-dyslexia-tool/blob/main/notebooks/data_insights.ipynb\" target=\"_parent\"><img src=\"https://colab.research.google.com/assets/colab-badge.svg\" alt=\"Open In Colab\"/></a>"
      ]
    },
    {
      "cell_type": "code",
      "execution_count": 1,
      "metadata": {
        "id": "smARcQlG9p-v",
        "colab": {
          "base_uri": "https://localhost:8080/"
        },
        "outputId": "3bc28bb6-08f1-4bc3-8bde-77f202347b4b"
      },
      "outputs": [
        {
          "output_type": "stream",
          "name": "stdout",
          "text": [
            "Requirement already satisfied: pandas in /usr/local/lib/python3.12/dist-packages (2.2.2)\n",
            "Requirement already satisfied: matplotlib in /usr/local/lib/python3.12/dist-packages (3.10.0)\n",
            "Requirement already satisfied: seaborn in /usr/local/lib/python3.12/dist-packages (0.13.2)\n",
            "Requirement already satisfied: wordcloud in /usr/local/lib/python3.12/dist-packages (1.9.4)\n",
            "Collecting textstat\n",
            "  Downloading textstat-0.7.10-py3-none-any.whl.metadata (15 kB)\n",
            "Requirement already satisfied: numpy>=1.26.0 in /usr/local/lib/python3.12/dist-packages (from pandas) (2.0.2)\n",
            "Requirement already satisfied: python-dateutil>=2.8.2 in /usr/local/lib/python3.12/dist-packages (from pandas) (2.9.0.post0)\n",
            "Requirement already satisfied: pytz>=2020.1 in /usr/local/lib/python3.12/dist-packages (from pandas) (2025.2)\n",
            "Requirement already satisfied: tzdata>=2022.7 in /usr/local/lib/python3.12/dist-packages (from pandas) (2025.2)\n",
            "Requirement already satisfied: contourpy>=1.0.1 in /usr/local/lib/python3.12/dist-packages (from matplotlib) (1.3.3)\n",
            "Requirement already satisfied: cycler>=0.10 in /usr/local/lib/python3.12/dist-packages (from matplotlib) (0.12.1)\n",
            "Requirement already satisfied: fonttools>=4.22.0 in /usr/local/lib/python3.12/dist-packages (from matplotlib) (4.59.2)\n",
            "Requirement already satisfied: kiwisolver>=1.3.1 in /usr/local/lib/python3.12/dist-packages (from matplotlib) (1.4.9)\n",
            "Requirement already satisfied: packaging>=20.0 in /usr/local/lib/python3.12/dist-packages (from matplotlib) (25.0)\n",
            "Requirement already satisfied: pillow>=8 in /usr/local/lib/python3.12/dist-packages (from matplotlib) (11.3.0)\n",
            "Requirement already satisfied: pyparsing>=2.3.1 in /usr/local/lib/python3.12/dist-packages (from matplotlib) (3.2.3)\n",
            "Collecting pyphen (from textstat)\n",
            "  Downloading pyphen-0.17.2-py3-none-any.whl.metadata (3.2 kB)\n",
            "Requirement already satisfied: nltk in /usr/local/lib/python3.12/dist-packages (from textstat) (3.9.1)\n",
            "Requirement already satisfied: setuptools in /usr/local/lib/python3.12/dist-packages (from textstat) (75.2.0)\n",
            "Requirement already satisfied: six>=1.5 in /usr/local/lib/python3.12/dist-packages (from python-dateutil>=2.8.2->pandas) (1.17.0)\n",
            "Requirement already satisfied: click in /usr/local/lib/python3.12/dist-packages (from nltk->textstat) (8.2.1)\n",
            "Requirement already satisfied: joblib in /usr/local/lib/python3.12/dist-packages (from nltk->textstat) (1.5.2)\n",
            "Requirement already satisfied: regex>=2021.8.3 in /usr/local/lib/python3.12/dist-packages (from nltk->textstat) (2024.11.6)\n",
            "Requirement already satisfied: tqdm in /usr/local/lib/python3.12/dist-packages (from nltk->textstat) (4.67.1)\n",
            "Downloading textstat-0.7.10-py3-none-any.whl (239 kB)\n",
            "\u001b[2K   \u001b[90m━━━━━━━━━━━━━━━━━━━━━━━━━━━━━━━━━━━━━━━━\u001b[0m \u001b[32m239.2/239.2 kB\u001b[0m \u001b[31m2.9 MB/s\u001b[0m eta \u001b[36m0:00:00\u001b[0m\n",
            "\u001b[?25hDownloading pyphen-0.17.2-py3-none-any.whl (2.1 MB)\n",
            "\u001b[2K   \u001b[90m━━━━━━━━━━━━━━━━━━━━━━━━━━━━━━━━━━━━━━━━\u001b[0m \u001b[32m2.1/2.1 MB\u001b[0m \u001b[31m24.7 MB/s\u001b[0m eta \u001b[36m0:00:00\u001b[0m\n",
            "\u001b[?25hInstalling collected packages: pyphen, textstat\n",
            "Successfully installed pyphen-0.17.2 textstat-0.7.10\n"
          ]
        }
      ],
      "source": [
        "# Install libraries if not already installed\n",
        "!pip install pandas matplotlib seaborn wordcloud textstat"
      ]
    },
    {
      "cell_type": "code",
      "source": [
        "import pandas as pd\n",
        "import matplotlib.pyplot as plt\n",
        "import seaborn as sns\n",
        "from wordcloud import WordCloud\n",
        "import textstat"
      ],
      "metadata": {
        "id": "SglKUO2ECt5f"
      },
      "execution_count": 2,
      "outputs": []
    },
    {
      "cell_type": "code",
      "source": [
        "from google.colab import drive\n",
        "drive.mount('/content/drive')"
      ],
      "metadata": {
        "id": "GgscwLWcDAdT",
        "outputId": "d1b06646-3048-4dae-e06a-a3e6590c43d7",
        "colab": {
          "base_uri": "https://localhost:8080/"
        }
      },
      "execution_count": 5,
      "outputs": [
        {
          "output_type": "stream",
          "name": "stdout",
          "text": [
            "Mounted at /content/drive\n"
          ]
        }
      ]
    },
    {
      "cell_type": "code",
      "source": [
        "dataset_path = \"/content/drive/MyDrive/data-simplification.tar.bz2\""
      ],
      "metadata": {
        "id": "6o8xZxTJEIop"
      },
      "execution_count": 6,
      "outputs": []
    },
    {
      "cell_type": "code",
      "source": [
        "import os\n",
        "# Create folder for extraction\n",
        "extract_dir = \"/content/drive/MyDrive/ai-dyslexia-tool/data/raw/wikilarge\"\n",
        "os.makedirs(extract_dir, exist_ok=True)\n",
        "# Extract using tar\n",
        "!tar -xvjf \"/content/drive/MyDrive/data-simplification.tar.bz2\" -C {extract_dir}\n"
      ],
      "metadata": {
        "id": "0_WlussrEXwK",
        "outputId": "ff75895f-df9e-48e6-bdf1-0d17aed20efc",
        "colab": {
          "base_uri": "https://localhost:8080/"
        }
      },
      "execution_count": 7,
      "outputs": [
        {
          "output_type": "stream",
          "name": "stdout",
          "text": [
            "data-simplification/\n",
            "data-simplification/wikilarge/\n",
            "data-simplification/wikilarge/wiki.full.aner.map.t7\n",
            "data-simplification/wikilarge/wiki.full.aner.ori.test.dst\n",
            "data-simplification/wikilarge/wiki.full.aner.ori.test.src\n",
            "data-simplification/wikilarge/wiki.full.aner.ori.train.dst\n",
            "data-simplification/wikilarge/wiki.full.aner.ori.train.src\n",
            "data-simplification/wikilarge/wiki.full.aner.ori.valid.dst\n",
            "data-simplification/wikilarge/wiki.full.aner.ori.valid.src\n",
            "data-simplification/wikilarge/wiki.full.aner.test.dst\n",
            "data-simplification/wikilarge/wiki.full.aner.test.src\n",
            "data-simplification/wikilarge/wiki.full.aner.train.dst\n",
            "data-simplification/wikilarge/wiki.full.aner.train.dst.vocab.tmp.t7\n",
            "data-simplification/wikilarge/wiki.full.aner.train.src\n",
            "data-simplification/wikilarge/wiki.full.aner.train.src.vocab.tmp.t7\n",
            "data-simplification/wikilarge/wiki.full.aner.valid.dst\n",
            "data-simplification/wikilarge/wiki.full.aner.valid.src\n",
            "data-simplification/wikismall/\n",
            "data-simplification/wikismall/PWKP_108016.tag.80.aner.map.t7\n",
            "data-simplification/wikismall/PWKP_108016.tag.80.aner.ori.test.dst\n",
            "data-simplification/wikismall/PWKP_108016.tag.80.aner.ori.test.src\n",
            "data-simplification/wikismall/PWKP_108016.tag.80.aner.ori.train.dst\n",
            "data-simplification/wikismall/PWKP_108016.tag.80.aner.ori.train.src\n",
            "data-simplification/wikismall/PWKP_108016.tag.80.aner.ori.valid.dst\n",
            "data-simplification/wikismall/PWKP_108016.tag.80.aner.ori.valid.src\n",
            "data-simplification/wikismall/PWKP_108016.tag.80.aner.test.dst\n",
            "data-simplification/wikismall/PWKP_108016.tag.80.aner.test.src\n",
            "data-simplification/wikismall/PWKP_108016.tag.80.aner.train.dst\n",
            "data-simplification/wikismall/PWKP_108016.tag.80.aner.train.dst.vocab.tmp.t7\n",
            "data-simplification/wikismall/PWKP_108016.tag.80.aner.train.src\n",
            "data-simplification/wikismall/PWKP_108016.tag.80.aner.train.src.vocab.tmp.t7\n",
            "data-simplification/wikismall/PWKP_108016.tag.80.aner.valid.dst\n",
            "data-simplification/wikismall/PWKP_108016.tag.80.aner.valid.src\n"
          ]
        }
      ]
    }
  ]
}